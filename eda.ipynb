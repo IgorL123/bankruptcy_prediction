{
 "cells": [
  {
   "cell_type": "code",
   "execution_count": 32,
   "outputs": [],
   "source": [
    "import pandas as pd\n",
    "import numpy as np\n",
    "import matplotlib.pyplot as plt\n",
    "import seaborn as sns\n",
    "sns.set_theme()"
   ],
   "metadata": {
    "collapsed": false,
    "ExecuteTime": {
     "end_time": "2023-05-22T17:57:13.289203904Z",
     "start_time": "2023-05-22T17:57:13.240246628Z"
    }
   }
  },
  {
   "cell_type": "code",
   "execution_count": 33,
   "outputs": [
    {
     "name": "stdout",
     "output_type": "stream",
     "text": [
      "Выборка: 43405\n",
      "Количество дубликатов 802\n"
     ]
    },
    {
     "data": {
      "text/plain": "      Attr1    Attr2    Attr3   Attr4    Attr5    Attr6     Attr7    Attr8   \n0  0.200550  0.37951  0.39641  2.0472  32.3510  0.38825  0.249760  1.33050  \\\n1  0.209120  0.49988  0.47225  1.9447  14.7860  0.00000  0.258340  0.99601   \n2  0.248660  0.69592  0.26713  1.5548  -1.1523  0.00000  0.309060  0.43695   \n3  0.081483  0.30734  0.45879  2.4928  51.9520  0.14988  0.092704  1.86610   \n4  0.187320  0.61323  0.22960  1.4063  -7.3128  0.18732  0.187320  0.63070   \n\n    Attr9   Attr10  ...   Attr57   Attr58    Attr59  Attr60  Attr61   Attr62   \n0  1.1389  0.50494  ...  0.39718  0.87804  0.001924  8.4160  5.1372   82.658  \\\n1  1.6996  0.49788  ...  0.42002  0.85300  0.000000  4.1486  3.2732  107.350   \n2  1.3090  0.30408  ...  0.81774  0.76599  0.694840  4.9909  3.9510  134.270   \n3  1.0571  0.57353  ...  0.14207  0.94598  0.000000  4.5746  3.6147   86.435   \n4  1.1559  0.38677  ...  0.48431  0.86515  0.124440  6.3985  4.3158  127.210   \n\n   Attr63   Attr64  class  year  \n0  4.4158   7.4277      0     1  \n1  3.4000  60.9870      0     1  \n2  2.7185   5.2078      0     1  \n3  4.2228   5.5497      0     1  \n4  2.8692   7.8980      0     1  \n\n[5 rows x 66 columns]",
      "text/html": "<div>\n<style scoped>\n    .dataframe tbody tr th:only-of-type {\n        vertical-align: middle;\n    }\n\n    .dataframe tbody tr th {\n        vertical-align: top;\n    }\n\n    .dataframe thead th {\n        text-align: right;\n    }\n</style>\n<table border=\"1\" class=\"dataframe\">\n  <thead>\n    <tr style=\"text-align: right;\">\n      <th></th>\n      <th>Attr1</th>\n      <th>Attr2</th>\n      <th>Attr3</th>\n      <th>Attr4</th>\n      <th>Attr5</th>\n      <th>Attr6</th>\n      <th>Attr7</th>\n      <th>Attr8</th>\n      <th>Attr9</th>\n      <th>Attr10</th>\n      <th>...</th>\n      <th>Attr57</th>\n      <th>Attr58</th>\n      <th>Attr59</th>\n      <th>Attr60</th>\n      <th>Attr61</th>\n      <th>Attr62</th>\n      <th>Attr63</th>\n      <th>Attr64</th>\n      <th>class</th>\n      <th>year</th>\n    </tr>\n  </thead>\n  <tbody>\n    <tr>\n      <th>0</th>\n      <td>0.200550</td>\n      <td>0.37951</td>\n      <td>0.39641</td>\n      <td>2.0472</td>\n      <td>32.3510</td>\n      <td>0.38825</td>\n      <td>0.249760</td>\n      <td>1.33050</td>\n      <td>1.1389</td>\n      <td>0.50494</td>\n      <td>...</td>\n      <td>0.39718</td>\n      <td>0.87804</td>\n      <td>0.001924</td>\n      <td>8.4160</td>\n      <td>5.1372</td>\n      <td>82.658</td>\n      <td>4.4158</td>\n      <td>7.4277</td>\n      <td>0</td>\n      <td>1</td>\n    </tr>\n    <tr>\n      <th>1</th>\n      <td>0.209120</td>\n      <td>0.49988</td>\n      <td>0.47225</td>\n      <td>1.9447</td>\n      <td>14.7860</td>\n      <td>0.00000</td>\n      <td>0.258340</td>\n      <td>0.99601</td>\n      <td>1.6996</td>\n      <td>0.49788</td>\n      <td>...</td>\n      <td>0.42002</td>\n      <td>0.85300</td>\n      <td>0.000000</td>\n      <td>4.1486</td>\n      <td>3.2732</td>\n      <td>107.350</td>\n      <td>3.4000</td>\n      <td>60.9870</td>\n      <td>0</td>\n      <td>1</td>\n    </tr>\n    <tr>\n      <th>2</th>\n      <td>0.248660</td>\n      <td>0.69592</td>\n      <td>0.26713</td>\n      <td>1.5548</td>\n      <td>-1.1523</td>\n      <td>0.00000</td>\n      <td>0.309060</td>\n      <td>0.43695</td>\n      <td>1.3090</td>\n      <td>0.30408</td>\n      <td>...</td>\n      <td>0.81774</td>\n      <td>0.76599</td>\n      <td>0.694840</td>\n      <td>4.9909</td>\n      <td>3.9510</td>\n      <td>134.270</td>\n      <td>2.7185</td>\n      <td>5.2078</td>\n      <td>0</td>\n      <td>1</td>\n    </tr>\n    <tr>\n      <th>3</th>\n      <td>0.081483</td>\n      <td>0.30734</td>\n      <td>0.45879</td>\n      <td>2.4928</td>\n      <td>51.9520</td>\n      <td>0.14988</td>\n      <td>0.092704</td>\n      <td>1.86610</td>\n      <td>1.0571</td>\n      <td>0.57353</td>\n      <td>...</td>\n      <td>0.14207</td>\n      <td>0.94598</td>\n      <td>0.000000</td>\n      <td>4.5746</td>\n      <td>3.6147</td>\n      <td>86.435</td>\n      <td>4.2228</td>\n      <td>5.5497</td>\n      <td>0</td>\n      <td>1</td>\n    </tr>\n    <tr>\n      <th>4</th>\n      <td>0.187320</td>\n      <td>0.61323</td>\n      <td>0.22960</td>\n      <td>1.4063</td>\n      <td>-7.3128</td>\n      <td>0.18732</td>\n      <td>0.187320</td>\n      <td>0.63070</td>\n      <td>1.1559</td>\n      <td>0.38677</td>\n      <td>...</td>\n      <td>0.48431</td>\n      <td>0.86515</td>\n      <td>0.124440</td>\n      <td>6.3985</td>\n      <td>4.3158</td>\n      <td>127.210</td>\n      <td>2.8692</td>\n      <td>7.8980</td>\n      <td>0</td>\n      <td>1</td>\n    </tr>\n  </tbody>\n</table>\n<p>5 rows × 66 columns</p>\n</div>"
     },
     "execution_count": 33,
     "metadata": {},
     "output_type": "execute_result"
    }
   ],
   "source": [
    "col_names = pd.read_csv('data/data.csv', nrows=0).columns\n",
    "dtype_map = {'class' : np.int16, 'year' : np.int16}\n",
    "dtype_map.update({col: np.float64 for col in col_names if col not in dtype_map})\n",
    "\n",
    "dtf = pd.read_csv('data/data.csv', dtype=dtype_map)\n",
    "al = dtf.shape[0]\n",
    "print(f\"Выборка: {al}\")\n",
    "dtf.drop_duplicates(keep=False, inplace=True)\n",
    "print(f\"Количество дубликатов {al - dtf.shape[0]}\")"
   ],
   "metadata": {
    "collapsed": false,
    "ExecuteTime": {
     "end_time": "2023-05-22T17:59:16.502519939Z",
     "start_time": "2023-05-22T17:59:16.107544935Z"
    }
   }
  },
  {
   "cell_type": "code",
   "execution_count": 36,
   "outputs": [
    {
     "data": {
      "text/plain": "       column_name  percent_missing\nAttr1        Attr1         0.018778\nAttr2        Attr2         0.018778\nAttr3        Attr3         0.018778\nAttr4        Attr4         0.309837\nAttr5        Attr5         0.208905\n...            ...              ...\nAttr62      Attr62         0.288712\nAttr63      Attr63         0.309837\nAttr64      Attr64         1.868413\nclass        class         0.000000\nyear          year         0.000000\n\n[66 rows x 2 columns]",
      "text/html": "<div>\n<style scoped>\n    .dataframe tbody tr th:only-of-type {\n        vertical-align: middle;\n    }\n\n    .dataframe tbody tr th {\n        vertical-align: top;\n    }\n\n    .dataframe thead th {\n        text-align: right;\n    }\n</style>\n<table border=\"1\" class=\"dataframe\">\n  <thead>\n    <tr style=\"text-align: right;\">\n      <th></th>\n      <th>column_name</th>\n      <th>percent_missing</th>\n    </tr>\n  </thead>\n  <tbody>\n    <tr>\n      <th>Attr1</th>\n      <td>Attr1</td>\n      <td>0.018778</td>\n    </tr>\n    <tr>\n      <th>Attr2</th>\n      <td>Attr2</td>\n      <td>0.018778</td>\n    </tr>\n    <tr>\n      <th>Attr3</th>\n      <td>Attr3</td>\n      <td>0.018778</td>\n    </tr>\n    <tr>\n      <th>Attr4</th>\n      <td>Attr4</td>\n      <td>0.309837</td>\n    </tr>\n    <tr>\n      <th>Attr5</th>\n      <td>Attr5</td>\n      <td>0.208905</td>\n    </tr>\n    <tr>\n      <th>...</th>\n      <td>...</td>\n      <td>...</td>\n    </tr>\n    <tr>\n      <th>Attr62</th>\n      <td>Attr62</td>\n      <td>0.288712</td>\n    </tr>\n    <tr>\n      <th>Attr63</th>\n      <td>Attr63</td>\n      <td>0.309837</td>\n    </tr>\n    <tr>\n      <th>Attr64</th>\n      <td>Attr64</td>\n      <td>1.868413</td>\n    </tr>\n    <tr>\n      <th>class</th>\n      <td>class</td>\n      <td>0.000000</td>\n    </tr>\n    <tr>\n      <th>year</th>\n      <td>year</td>\n      <td>0.000000</td>\n    </tr>\n  </tbody>\n</table>\n<p>66 rows × 2 columns</p>\n</div>"
     },
     "execution_count": 36,
     "metadata": {},
     "output_type": "execute_result"
    }
   ],
   "source": [
    "percent_missing = dtf.isnull().sum() / dtf.shape[0] * 100.00\n",
    "missing_value_df = pd.DataFrame({'column_name': dtf.columns,\n",
    "                                 'percent_missing': percent_missing})\n",
    "missing_value_df"
   ],
   "metadata": {
    "collapsed": false,
    "ExecuteTime": {
     "end_time": "2023-05-22T17:59:23.790858881Z",
     "start_time": "2023-05-22T17:59:23.731105893Z"
    }
   }
  },
  {
   "cell_type": "code",
   "execution_count": null,
   "outputs": [],
   "source": [
    "\n"
   ],
   "metadata": {
    "collapsed": false
   }
  }
 ],
 "metadata": {
  "kernelspec": {
   "display_name": "Python 3",
   "language": "python",
   "name": "python3"
  },
  "language_info": {
   "codemirror_mode": {
    "name": "ipython",
    "version": 2
   },
   "file_extension": ".py",
   "mimetype": "text/x-python",
   "name": "python",
   "nbconvert_exporter": "python",
   "pygments_lexer": "ipython2",
   "version": "2.7.6"
  }
 },
 "nbformat": 4,
 "nbformat_minor": 0
}
