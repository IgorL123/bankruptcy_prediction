{
 "cells": [
  {
   "cell_type": "code",
   "execution_count": 5,
   "metadata": {},
   "outputs": [],
   "source": [
    "import torch\n",
    "import pandas as pd\n",
    "import numpy as np\n",
    "import torch.nn as nn\n",
    "from torch.utils.data import DataLoader, Dataset\n",
    "import lightning.pytorch as pl\n",
    "import matplotlib.pyplot as plt\n",
    "import ncg_optimizer as optim_ad\n",
    "import seaborn as sns\n",
    "from dataset import BdzDataset\n",
    "from model import LitMLP\n",
    "sns.set_theme()"
   ]
  },
  {
   "cell_type": "code",
   "execution_count": null,
   "metadata": {},
   "outputs": [],
   "source": [
    "dtf = pd.read_csv('data/fsdata.csv')\n",
    "train, val, test = np.split(dtf.sample(frac=1), [int(.6 * len(dtf)), int(.9 * len(dtf))])\n",
    "train.shape, val.shape, test.shape"
   ]
  },
  {
   "cell_type": "code",
   "execution_count": null,
   "metadata": {},
   "outputs": [],
   "source": [
    "train = BdzDataset(x=train.drop('class', axis=1), y=train['class'])\n",
    "val = BdzDataset(x=val.drop('class', axis=1), y=val['class'])\n",
    "test = BdzDataset(x=test.drop('class', axis=1), y=test['class'])"
   ]
  },
  {
   "cell_type": "code",
   "execution_count": null,
   "metadata": {},
   "outputs": [],
   "source": [
    "from lightning.pytorch.callbacks import Callback\n",
    "from lightning.pytorch.loggers import TensorBoardLogger\n",
    "\n",
    "\n",
    "class MetricLogger(Callback):\n",
    "    def __init__(self):\n",
    "        super().__init__()\n",
    "        self.train_metrics = []\n",
    "        self.val_metrics = []\n",
    "        self.test_metrics = []\n",
    "\n",
    "    def on_train_batch_end(self, trainer, pl_module, outputs, batch, batch_idx):\n",
    "        train_loss = trainer.callback_metrics['train_loss']\n",
    "        self.train_metrics.append(train_loss.item())\n",
    "\n",
    "    def on_validation_epoch_end(self, trainer, pl_module):\n",
    "        val_loss = trainer.callback_metrics['val_loss']\n",
    "        self.val_metrics.append(val_loss.item())\n",
    "\n",
    "    def on_test_epoch_end(self, trainer, pl_module):\n",
    "        test_loss = trainer.callback_metrics['test_loss']\n",
    "        self.test_metrics.append(test_loss.item())\n",
    "        \n",
    "    def plot_loss(self):\n",
    "        plt.plot(range(1, len(self.train_metrics) + 1),self.train_metrics , '-r', label='train')\n",
    "        plt.plot(range(1, len(self.val_metrics) + 1), self.val_metrics, '-g', label='val')\n",
    "        plt.legend(loc='upper right')\n",
    "        plt.title('losses')\n",
    "        plt.xlabel('epoch')\n",
    "        plt.ylabel('loss')\n",
    "        plt.show()\n",
    "\n",
    "@torch.no_grad()\n",
    "def init_weights(m):\n",
    "     if type(m) == nn.Linear:\n",
    "        nn.init.trunc_normal_(m.weight, std=100.0, a=0.0, b=100.0)"
   ]
  },
  {
   "cell_type": "code",
   "execution_count": null,
   "metadata": {},
   "outputs": [],
   "source": [
    "def train_from_setup(setup, name):\n",
    "    EPOCH = setup['epoch']\n",
    "    lr = setup['lr']\n",
    "    m = setup['m']\n",
    "    opt = setup['opt']\n",
    "    nesterov = setup['nesterov']\n",
    "    bs = setup['bs']\n",
    "    if bs == 0:\n",
    "        tr = DataLoader(train, batch_size=train.__len__())\n",
    "        vl = DataLoader(val, batch_size=val.__len__())\n",
    "        tst = DataLoader(test, batch_size=test.__len__())\n",
    "    else:\n",
    "        tr = DataLoader(train, batch_size=bs)\n",
    "        vl = DataLoader(val, batch_size=bs)\n",
    "        tst = DataLoader(test, batch_size=test.__len__())\n",
    "    \n",
    "    logger = TensorBoardLogger(\"GD\", name=name)\n",
    "    metric = MetricLogger()\n",
    "    model = LitMLP(input_dim=39, \n",
    "                   output_dim=2, \n",
    "                   lr=lr, \n",
    "                   nesterov=nesterov,\n",
    "                   momentum=m,\n",
    "                   opt=opt\n",
    "                  )\n",
    "    trainer = pl.Trainer(logger=logger, \n",
    "                         max_epochs=EPOCH,\n",
    "                         callbacks=[metric])\n",
    "    trainer.fit(model, tr, vl)\n",
    "    trainer.test(model=model, dataloaders=tst)"
   ]
  },
  {
   "cell_type": "code",
   "execution_count": null,
   "metadata": {},
   "outputs": [],
   "source": [
    "gdm_setup = [\n",
    "    {'epoch':400, 'lr': 1e-1, \"m\": 0, \"nesterov\": False, 'bs': 0, 'opt': \"SGD\"},\n",
    "    {'epoch': 300, 'lr': 1e-1, 'm': 0.9, \"nesterov\": False, 'bs': 0, 'opt': \"SGD\"},\n",
    "    {'epoch': 300, 'lr': 1e-1, 'm': 0.8, \"nesterov\": False, 'bs': 0, 'opt': \"SGD\"},\n",
    "    {'epoch': 300, 'lr': 1e-1, 'm': 0.4, \"nesterov\": False, 'bs': 0, 'opt': \"SGD\"},\n",
    "]\n",
    "\n",
    "nag_setup = [\n",
    "    {'epoch': 300, 'lr': 1e-1, 'm': 0.9, \"nesterov\": True, 'bs': 0, 'opt': \"SGD\"},\n",
    "    {'epoch': 300, 'lr': 1e-1, 'm': 0.8, \"nesterov\": True, 'bs': 0, 'opt': \"SGD\"},\n",
    "    {'epoch': 300, 'lr': 1e-1, 'm': 0.4, \"nesterov\": True, 'bs': 0, 'opt': \"SGD\"},\n",
    "]"
   ]
  },
  {
   "cell_type": "code",
   "execution_count": null,
   "metadata": {},
   "outputs": [],
   "source": [
    "# GDM and NAG\n",
    "\n",
    "for i in gdm_setup:\n",
    "    train_from_setup(i, name='gdm')\n",
    "    \n",
    "for i in nag_setup:\n",
    "    train_from_setup(i, name='nag')\n"
   ]
  },
  {
   "cell_type": "code",
   "execution_count": null,
   "metadata": {},
   "outputs": [],
   "source": [
    "#Adagrad\n",
    "adagrad = [\n",
    "    {'epoch': 10, 'lr': 1e-3, \"m\": 0, \"nesterov\": False, 'bs': 50, 'opt': \"Adagrad\"},\n",
    "]\n",
    "for i in adagrad:\n",
    "    train_from_setup(i, name='adagrad')\n"
   ]
  },
  {
   "cell_type": "code",
   "execution_count": null,
   "metadata": {},
   "outputs": [],
   "source": [
    "\n",
    "# RMSprop and ADaDelta\n",
    "rmsprop_setup = [\n",
    "    {'epoch':10, 'lr': 1e-3, \"m\": 0, \"nesterov\": False, 'bs': 50, 'opt': \"RMS\"},\n",
    "    {'epoch': 10, 'lr': 1e-3, 'm': 0.9, \"nesterov\": False, 'bs': 50, 'opt': \"RMS\"},\n",
    "    {'epoch': 10, 'lr': 1e-3, 'm': 0.6, \"nesterov\": False, 'bs': 50, 'opt': \"RMS\"},\n",
    "    {'epoch': 10, 'lr': 1e-3, 'm': 0.1, \"nesterov\": False, 'bs': 50, 'opt': \"RMS\"},\n",
    "]\n",
    "\n",
    "adadelta_setup = [\n",
    "    {'epoch': 10, 'lr': 1e-3, 'm': 0, \"nesterov\": False, 'bs': 50, 'opt': \"AdaDelta\"},\n",
    "    {'epoch': 10, 'lr': 1e-3, 'm': 0.9, \"nesterov\": False, 'bs': 50, 'opt': \"AdaDelta\"},\n",
    "    {'epoch': 10, 'lr': 1e-3, 'm': 0.6, \"nesterov\": False, 'bs': 50, 'opt': \"AdaDelta\"},\n",
    "    {'epoch': 10, 'lr': 1e-3, 'm': 0.4, \"nesterov\": False, 'bs': 50, 'opt': \"AdaDelta\"},\n",
    "]\n",
    "\n",
    "\n",
    "\n",
    "for i in rmsprop_setup:\n",
    "    train_from_setup(i, name='rmsprop')\n",
    "    \n",
    "for i in adadelta_setup:\n",
    "    train_from_setup(i, name='adadelta')\n",
    "\n"
   ]
  },
  {
   "cell_type": "code",
   "execution_count": null,
   "metadata": {},
   "outputs": [],
   "source": [
    "#Adam\n",
    "adam = [\n",
    "    {'epoch': 7, 'lr': 1e-3, \"m\": [0.9, 0.999], \"nesterov\": False, 'bs': 50, 'opt': \"Adam\"},\n",
    "    {'epoch': 7, 'lr': 1e-3, \"m\": [0.8, 0.888], \"nesterov\": False, 'bs': 50, 'opt': \"Adam\"},\n",
    "    {'epoch': 7, 'lr': 1e-3, \"m\": [0.4, 0.9], \"nesterov\": False, 'bs': 50, 'opt': \"Adam\"},\n",
    "    {'epoch': 7, 'lr': 1e-3, \"m\": [0.1, 0.2], \"nesterov\": False, 'bs': 50, 'opt': \"Adam\"},\n",
    "]\n",
    "for i in adam:\n",
    "    train_from_setup(i, name='adam')"
   ]
  },
  {
   "cell_type": "code",
   "execution_count": null,
   "metadata": {},
   "outputs": [],
   "source": [
    "#Rprop\n",
    "rprop = [\n",
    "    {'epoch': 100, 'lr': 1e-1, \"m\": 0, \"nesterov\": False, 'bs': 0, 'opt': \"Rprop\"}\n",
    "]\n",
    "for i in rprop:\n",
    "    train_from_setup(i, name='rprop')"
   ]
  },
  {
   "cell_type": "code",
   "execution_count": null,
   "metadata": {},
   "outputs": [],
   "source": [
    "#SGD\n",
    "sgd = [\n",
    "    {'epoch': 1, 'lr': 1e-3, \"m\": 0, \"nesterov\": False, 'bs': 1, 'opt': \"SGD\"},\n",
    "    {'epoch': 10, 'lr': 1e-3, \"m\": 0, \"nesterov\": False, 'bs': 20, 'opt': \"SGD\"},\n",
    "    {'epoch': 10, 'lr': 1e-3, \"m\": 0, \"nesterov\": False, 'bs': 50, 'opt': \"SGD\"},\n",
    "    {'epoch': 300, 'lr': 1e-3, \"m\": 0, \"nesterov\": False, 'bs': 0, 'opt': \"SGD\"},\n",
    "]\n",
    "for i in sgd:\n",
    "    train_from_setup(i, name='sgd')"
   ]
  },
  {
   "cell_type": "code",
   "execution_count": null,
   "metadata": {},
   "outputs": [],
   "source": [
    "#BFGS\n",
    "bfgs = [\n",
    "    {'epoch': 100, 'lr': 1e-3, \"m\": 0, \"nesterov\": False, 'bs': 0, 'opt': \"BFGS\"},\n",
    "]\n",
    "for i in bfgs:\n",
    "    train_from_setup(i, name='BFGS')"
   ]
  },
  {
   "cell_type": "code",
   "execution_count": null,
   "metadata": {},
   "outputs": [],
   "source": [
    "#LM ---- NOT IMPLEMENTED\n",
    "lm = [\n",
    "    {'epoch': 100, 'lr': 1e-3, \"m\": 0, \"nesterov\": False, 'bs': 0, 'opt': \"LM\"},\n",
    "]\n",
    "for i in lm:cotus\n",
    "    train_from_setup(i, name='LM')"
   ]
  },
  {
   "cell_type": "code",
   "execution_count": null,
   "metadata": {},
   "outputs": [],
   "source": [
    "#Fletcher-Reeves ---- NOT IMPLEMENTED\n",
    "lm = [\n",
    "    {'epoch': 100, 'lr': 1e-3, \"m\": 0, \"nesterov\": False, 'bs': 0, 'opt': \"LM\"},\n",
    "]\n",
    "for i in lm:\n",
    "    train_from_setup(i, name='LM')"
   ]
  },
  {
   "cell_type": "code",
   "execution_count": null,
   "metadata": {},
   "outputs": [],
   "source": [
    "#Polac ---- NOT IMPLEMENTED\n",
    "lm = [\n",
    "    {'epoch': 100, 'lr': 1e-3, \"m\": 0, \"nesterov\": False, 'bs': 0, 'opt': \"LM\"},\n",
    "]\n",
    "for i in lm:\n",
    "    train_from_setup(i, name='LM')"
   ]
  },
  {
   "cell_type": "code",
   "execution_count": 3,
   "metadata": {},
   "outputs": [
    {
     "data": {
      "text/plain": [
       "Text(0.5, 1.0, 'train')"
      ]
     },
     "execution_count": 3,
     "metadata": {},
     "output_type": "execute_result"
    },
    {
     "data": {
      "image/png": "[encoded data removed]",
      "text/plain": [
       "<Figure size 640x480 with 1 Axes>"
      ]
     },
     "metadata": {},
     "output_type": "display_data"
    }
   ],
   "source": [
    "mb_t = [0.043, 0.049, 0.058, 0.3584]\n",
    "mb_test = [0.1856, 0.1857, 0.1882, 0.3566]\n",
    "b = [1, 20, 100, 23703]\n",
    "sns.barplot(x=b, y=mb_t).set_title('train')"
   ]
  },
  {
   "cell_type": "code",
   "execution_count": 4,
   "metadata": {},
   "outputs": [
    {
     "data": {
      "text/plain": [
       "Text(0.5, 1.0, 'test')"
      ]
     },
     "execution_count": 4,
     "metadata": {},
     "output_type": "execute_result"
    },
    {
     "data": {
      "image/png": "[encoded data removed]",
      "text/plain": [
       "<Figure size 640x480 with 1 Axes>"
      ]
     },
     "metadata": {},
     "output_type": "display_data"
    }
   ],
   "source": [
    "sns.barplot(x=b, y=mb_test).set_title('test')"
   ]
  }
 ],
 "metadata": {
  "kernelspec": {
   "display_name": "Python 3 (ipykernel)",
   "language": "python",
   "name": "python3"
  },
  "language_info": {
   "codemirror_mode": {
    "name": "ipython",
    "version": 3
   },
   "file_extension": ".py",
   "mimetype": "text/x-python",
   "name": "python",
   "nbconvert_exporter": "python",
   "pygments_lexer": "ipython3",
   "version": "3.10.6"
  }
 },
 "nbformat": 4,
 "nbformat_minor": 1
}
